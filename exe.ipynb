{
 "cells": [
  {
   "cell_type": "code",
   "execution_count": 52,
   "metadata": {},
   "outputs": [],
   "source": [
    "import pefile\n",
    "import json\n",
    "import os\n",
    "def save_pe_info(pe, output_file):\n",
    "    # 创建一个字典来保存 PE 文件的信息\n",
    "    pe_info = {}\n",
    "\n",
    "    # 添加 DOS 头信息\n",
    "    pe_info['dos_header'] = pe.DOS_HEADER.dump_dict()\n",
    "\n",
    "    # 添加文件头信息\n",
    "    pe_info['file_header'] = pe.FILE_HEADER.dump_dict()\n",
    "\n",
    "    # 添加可选头信息\n",
    "    pe_info['optional_header'] = pe.OPTIONAL_HEADER.dump_dict()\n",
    "\n",
    "    # 添加节表信息\n",
    "    pe_info['section_headers'] = [section.dump_dict() for section in pe.sections]\n",
    "\n",
    "    # 添加导入表信息\n",
    "    pe_info['imported_functions'] = {}\n",
    "    for entry in pe.DIRECTORY_ENTRY_IMPORT:\n",
    "        pe_info['imported_functions'][entry.dll.decode()] = [func.name.decode() for func in entry.imports]\n",
    "\n",
    "    # 添加导出表信息\n",
    "    if hasattr(pe, 'DIRECTORY_ENTRY_EXPORT'):\n",
    "        pe_info['exported_functions'] = [export.name.decode() for export in pe.DIRECTORY_ENTRY_EXPORT.symbols]\n",
    "\n",
    "    # 保存信息到文件\n",
    "    with open(output_file, 'w') as f:\n",
    "        json.dump(pe_info, f, indent=4)"
   ]
  },
  {
   "cell_type": "code",
   "execution_count": 53,
   "metadata": {},
   "outputs": [],
   "source": [
    "for file in os.listdir('exe'):\n",
    "    pe = pefile.PE(f'exe/{file}')\n",
    "    # 保存 PE 文件信息到 JSON 文件\n",
    "    save_pe_info(pe, f'json/{file}.json')\n",
    "    pe.close()"
   ]
  },
  {
   "cell_type": "code",
   "execution_count": 54,
   "metadata": {},
   "outputs": [],
   "source": [
    "# 读取 JSON 文件中的信息\n",
    "import pandas as pd\n",
    "data_list = []\n",
    "for file in os.listdir('json'):\n",
    "    with open(f'json/{file}', 'r') as f:\n",
    "        pe_info = json.load(f)\n",
    "        pe_info['version'] = file.split('_')[1][:2]\n",
    "        data_list.append(pe_info)"
   ]
  },
  {
   "cell_type": "code",
   "execution_count": 55,
   "metadata": {},
   "outputs": [],
   "source": [
    "for data in data_list:\n",
    "    data.pop('dos_header')"
   ]
  },
  {
   "cell_type": "code",
   "execution_count": 56,
   "metadata": {},
   "outputs": [],
   "source": [
    "featrues = []\n",
    "for data in data_list:\n",
    "    featrue = {}\n",
    "    featrue['NumberOfSections-Value'] = data['file_header']['NumberOfSections']['Value']\n",
    "    featrue['PointerToSymbolTable-Value'] = data['file_header']['PointerToSymbolTable']['Value']\n",
    "    featrue['NumberOfSymbols-Value'] = data['file_header']['NumberOfSymbols']['Value']\n",
    "    featrue['SizeOfOptionalHeader-Value'] = data['file_header']['SizeOfOptionalHeader']['Value']\n",
    "    featrue['Characteristics-Value'] = data['file_header']['Characteristics']['Value']\n",
    "    featrue['MinorLinkerVersion-Value'] = data['optional_header']['MinorLinkerVersion']['Value']\n",
    "    featrue['SizeOfCode-Value'] = data['optional_header']['SizeOfCode']['Value']\n",
    "    featrue['SizeOfInitializedData-Value'] = data['optional_header']['SizeOfInitializedData']['Value']\n",
    "    featrue['SizeOfUninitializedData-Value'] = data['optional_header']['SizeOfUninitializedData']['Value']\n",
    "    featrue['AddressOfEntryPoint-Value'] = data['optional_header']['AddressOfEntryPoint']['Value']\n",
    "    featrue['BaseOfData-Value'] = data['optional_header']['BaseOfData']['Value']\n",
    "    featrue['CheckSum-Value'] = data['optional_header']['CheckSum']['Value']\n",
    "    featrue['DllCharacteristics-Value'] = data['optional_header']['DllCharacteristics']['Value']\n",
    "    featrue['version'] = data['version']\n",
    "    featrues.append(featrue)"
   ]
  },
  {
   "cell_type": "code",
   "execution_count": 57,
   "metadata": {},
   "outputs": [],
   "source": [
    "data = pd.DataFrame.from_dict(featrues)"
   ]
  },
  {
   "cell_type": "code",
   "execution_count": 58,
   "metadata": {},
   "outputs": [],
   "source": [
    "data.to_csv('exe.csv', index=False)"
   ]
  },
  {
   "cell_type": "code",
   "execution_count": 59,
   "metadata": {},
   "outputs": [],
   "source": [
    "from sklearn.tree import DecisionTreeClassifier\n",
    "from sklearn.naive_bayes import GaussianNB\n",
    "from sklearn.svm import SVC"
   ]
  },
  {
   "cell_type": "code",
   "execution_count": 60,
   "metadata": {},
   "outputs": [],
   "source": [
    "conlum_list = data.columns.tolist() #分离特征和目标值\n",
    "conlum_list.remove('version')\n",
    "features1 = data[conlum_list] #特征\n",
    "target = data['version'] # 什么版本"
   ]
  },
  {
   "cell_type": "code",
   "execution_count": 61,
   "metadata": {},
   "outputs": [
    {
     "data": {
      "text/html": [
       "<style>#sk-container-id-5 {color: black;}#sk-container-id-5 pre{padding: 0;}#sk-container-id-5 div.sk-toggleable {background-color: white;}#sk-container-id-5 label.sk-toggleable__label {cursor: pointer;display: block;width: 100%;margin-bottom: 0;padding: 0.3em;box-sizing: border-box;text-align: center;}#sk-container-id-5 label.sk-toggleable__label-arrow:before {content: \"▸\";float: left;margin-right: 0.25em;color: #696969;}#sk-container-id-5 label.sk-toggleable__label-arrow:hover:before {color: black;}#sk-container-id-5 div.sk-estimator:hover label.sk-toggleable__label-arrow:before {color: black;}#sk-container-id-5 div.sk-toggleable__content {max-height: 0;max-width: 0;overflow: hidden;text-align: left;background-color: #f0f8ff;}#sk-container-id-5 div.sk-toggleable__content pre {margin: 0.2em;color: black;border-radius: 0.25em;background-color: #f0f8ff;}#sk-container-id-5 input.sk-toggleable__control:checked~div.sk-toggleable__content {max-height: 200px;max-width: 100%;overflow: auto;}#sk-container-id-5 input.sk-toggleable__control:checked~label.sk-toggleable__label-arrow:before {content: \"▾\";}#sk-container-id-5 div.sk-estimator input.sk-toggleable__control:checked~label.sk-toggleable__label {background-color: #d4ebff;}#sk-container-id-5 div.sk-label input.sk-toggleable__control:checked~label.sk-toggleable__label {background-color: #d4ebff;}#sk-container-id-5 input.sk-hidden--visually {border: 0;clip: rect(1px 1px 1px 1px);clip: rect(1px, 1px, 1px, 1px);height: 1px;margin: -1px;overflow: hidden;padding: 0;position: absolute;width: 1px;}#sk-container-id-5 div.sk-estimator {font-family: monospace;background-color: #f0f8ff;border: 1px dotted black;border-radius: 0.25em;box-sizing: border-box;margin-bottom: 0.5em;}#sk-container-id-5 div.sk-estimator:hover {background-color: #d4ebff;}#sk-container-id-5 div.sk-parallel-item::after {content: \"\";width: 100%;border-bottom: 1px solid gray;flex-grow: 1;}#sk-container-id-5 div.sk-label:hover label.sk-toggleable__label {background-color: #d4ebff;}#sk-container-id-5 div.sk-serial::before {content: \"\";position: absolute;border-left: 1px solid gray;box-sizing: border-box;top: 0;bottom: 0;left: 50%;z-index: 0;}#sk-container-id-5 div.sk-serial {display: flex;flex-direction: column;align-items: center;background-color: white;padding-right: 0.2em;padding-left: 0.2em;position: relative;}#sk-container-id-5 div.sk-item {position: relative;z-index: 1;}#sk-container-id-5 div.sk-parallel {display: flex;align-items: stretch;justify-content: center;background-color: white;position: relative;}#sk-container-id-5 div.sk-item::before, #sk-container-id-5 div.sk-parallel-item::before {content: \"\";position: absolute;border-left: 1px solid gray;box-sizing: border-box;top: 0;bottom: 0;left: 50%;z-index: -1;}#sk-container-id-5 div.sk-parallel-item {display: flex;flex-direction: column;z-index: 1;position: relative;background-color: white;}#sk-container-id-5 div.sk-parallel-item:first-child::after {align-self: flex-end;width: 50%;}#sk-container-id-5 div.sk-parallel-item:last-child::after {align-self: flex-start;width: 50%;}#sk-container-id-5 div.sk-parallel-item:only-child::after {width: 0;}#sk-container-id-5 div.sk-dashed-wrapped {border: 1px dashed gray;margin: 0 0.4em 0.5em 0.4em;box-sizing: border-box;padding-bottom: 0.4em;background-color: white;}#sk-container-id-5 div.sk-label label {font-family: monospace;font-weight: bold;display: inline-block;line-height: 1.2em;}#sk-container-id-5 div.sk-label-container {text-align: center;}#sk-container-id-5 div.sk-container {/* jupyter's `normalize.less` sets `[hidden] { display: none; }` but bootstrap.min.css set `[hidden] { display: none !important; }` so we also need the `!important` here to be able to override the default hidden behavior on the sphinx rendered scikit-learn.org. See: https://github.com/scikit-learn/scikit-learn/issues/21755 */display: inline-block !important;position: relative;}#sk-container-id-5 div.sk-text-repr-fallback {display: none;}</style><div id=\"sk-container-id-5\" class=\"sk-top-container\"><div class=\"sk-text-repr-fallback\"><pre>SVC(kernel=&#x27;linear&#x27;)</pre><b>In a Jupyter environment, please rerun this cell to show the HTML representation or trust the notebook. <br />On GitHub, the HTML representation is unable to render, please try loading this page with nbviewer.org.</b></div><div class=\"sk-container\" hidden><div class=\"sk-item\"><div class=\"sk-estimator sk-toggleable\"><input class=\"sk-toggleable__control sk-hidden--visually\" id=\"sk-estimator-id-5\" type=\"checkbox\" checked><label for=\"sk-estimator-id-5\" class=\"sk-toggleable__label sk-toggleable__label-arrow\">SVC</label><div class=\"sk-toggleable__content\"><pre>SVC(kernel=&#x27;linear&#x27;)</pre></div></div></div></div></div>"
      ],
      "text/plain": [
       "SVC(kernel='linear')"
      ]
     },
     "execution_count": 61,
     "metadata": {},
     "output_type": "execute_result"
    }
   ],
   "source": [
    "model = SVC(kernel='linear')\n",
    "model.fit(features1, target)"
   ]
  },
  {
   "cell_type": "code",
   "execution_count": 62,
   "metadata": {},
   "outputs": [
    {
     "data": {
      "text/plain": [
       "0.11764705882352941"
      ]
     },
     "execution_count": 62,
     "metadata": {},
     "output_type": "execute_result"
    }
   ],
   "source": [
    "(model.predict(data.drop('version',axis=1)) == target).mean()"
   ]
  },
  {
   "cell_type": "code",
   "execution_count": 63,
   "metadata": {},
   "outputs": [
    {
     "data": {
      "text/plain": [
       "array([[3, 0, 0, 0, 0, 0, 0, 0],\n",
       "       [0, 3, 0, 0, 0, 0, 0, 0],\n",
       "       [0, 0, 2, 0, 0, 0, 0, 0],\n",
       "       [0, 0, 0, 2, 0, 0, 0, 0],\n",
       "       [0, 0, 0, 0, 2, 0, 0, 0],\n",
       "       [0, 0, 0, 0, 0, 2, 0, 0],\n",
       "       [0, 0, 0, 0, 0, 0, 2, 0],\n",
       "       [0, 0, 0, 0, 0, 0, 0, 1]], dtype=int64)"
      ]
     },
     "execution_count": 63,
     "metadata": {},
     "output_type": "execute_result"
    }
   ],
   "source": [
    "from sklearn.metrics import confusion_matrix\n",
    "import numpy as np\n",
    "import matplotlib.pyplot as plt\n",
    "import seaborn as sns\n",
    "confusion_matrix(target, model.predict(features1))"
   ]
  },
  {
   "cell_type": "code",
   "execution_count": 64,
   "metadata": {},
   "outputs": [
    {
     "name": "stdout",
     "output_type": "stream",
     "text": [
      "[[1. 0. 0. 0. 0. 0. 0. 0.]\n",
      " [0. 1. 0. 0. 0. 0. 0. 0.]\n",
      " [0. 0. 1. 0. 0. 0. 0. 0.]\n",
      " [0. 0. 0. 1. 0. 0. 0. 0.]\n",
      " [0. 0. 0. 0. 1. 0. 0. 0.]\n",
      " [0. 0. 0. 0. 0. 1. 0. 0.]\n",
      " [0. 0. 0. 0. 0. 0. 1. 0.]\n",
      " [0. 0. 0. 0. 0. 0. 0. 1.]]\n"
     ]
    },
    {
     "data": {
      "image/png": "[encoded data removed]",
      "text/plain": [
       "<Figure size 640x480 with 2 Axes>"
      ]
     },
     "metadata": {},
     "output_type": "display_data"
    }
   ],
   "source": [
    "def plot(matrix):\n",
    "  sns.set()\n",
    "  f,ax=plt.subplots()\n",
    "  print(matrix) #打印出来看看\n",
    "  sns.heatmap(matrix,annot=True,cmap=\"Blues\",ax=ax) #画热力图\n",
    "  ax.set_title('.exe file confusion matrix') #标题\n",
    "  ax.set_xticklabels(['6','7','8','9','10','11','12','13'])\n",
    "  ax.set_yticklabels(['6','7','8','9','10','11','12','13'])\n",
    "  ax.set_xlabel('predict') #x轴\n",
    "  ax.set_ylabel('true') #y轴\n",
    "\n",
    "matrix=confusion_matrix(target, model.predict(features1))\n",
    "matrix=matrix.astype('float') / matrix.sum(axis=1)[:, np.newaxis]  \n",
    "con_mat_norm = np.around(matrix, decimals=2)\n",
    "plot(con_mat_norm)# 画比例数据"
   ]
  },
  {
   "cell_type": "code",
   "execution_count": 65,
   "metadata": {},
   "outputs": [
    {
     "ename": "NameError",
     "evalue": "name 'features' is not defined",
     "output_type": "error",
     "traceback": [
      "\u001b[1;31m---------------------------------------------------------------------------\u001b[0m",
      "\u001b[1;31mNameError\u001b[0m                                 Traceback (most recent call last)",
      "Cell \u001b[1;32mIn[65], line 2\u001b[0m\n\u001b[0;32m      1\u001b[0m \u001b[38;5;28;01mfrom\u001b[39;00m \u001b[38;5;21;01msklearn\u001b[39;00m\u001b[38;5;21;01m.\u001b[39;00m\u001b[38;5;21;01mmetrics\u001b[39;00m \u001b[38;5;28;01mimport\u001b[39;00m accuracy_score, classification_report\n\u001b[1;32m----> 2\u001b[0m \u001b[38;5;28mprint\u001b[39m(\u001b[38;5;124m'\u001b[39m\u001b[38;5;124mClassification Report:\u001b[39m\u001b[38;5;130;01m\\n\u001b[39;00m\u001b[38;5;124m'\u001b[39m, classification_report(target, model\u001b[38;5;241m.\u001b[39mpredict(\u001b[43mfeatures\u001b[49m)))\n",
      "\u001b[1;31mNameError\u001b[0m: name 'features' is not defined"
     ]
    }
   ],
   "source": [
    "from sklearn.metrics import accuracy_score, classification_report\n",
    "print('Classification Report:\\n', classification_report(target, model.predict(features)))"
   ]
  }
 ],
 "metadata": {
  "kernelspec": {
   "display_name": "ai",
   "language": "python",
   "name": "python3"
  },
  "language_info": {
   "codemirror_mode": {
    "name": "ipython",
    "version": 3
   },
   "file_extension": ".py",
   "mimetype": "text/x-python",
   "name": "python",
   "nbconvert_exporter": "python",
   "pygments_lexer": "ipython3",
   "version": "3.8.17"
  }
 },
 "nbformat": 4,
 "nbformat_minor": 2
}
