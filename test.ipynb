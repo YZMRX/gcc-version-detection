{
 "cells": [
  {
   "cell_type": "markdown",
   "metadata": {},
   "source": [
    ".\\g++ -fexec-charset=GBK \"C:\\Users\\RX\\Desktop\\C题附件\\附件1.cpp\" -o 附件1.exe -leasyx -lgdi32 -lole32\n",
    "\n",
    ".\\g++ -fexec-charset=GBK \"C:\\Users\\RX\\Desktop\\C题附件\\附件2.cpp\" -o 附件2.exe\n",
    "\n",
    "g++ -fexec-charset=GBK \"C:\\Users\\RX\\Desktop\\C题附件\\附件2.cpp\" -o 附件2.exe -ftime-report"
   ]
  },
  {
   "cell_type": "markdown",
   "metadata": {},
   "source": [
    "预处理：gcc -E test.c -o test.i\n",
    "\n",
    "编译：gcc -S test.i -o test.s\n",
    "\n",
    "汇编：gcc -c test.s -o test.o\n",
    "\n",
    "链接：gcc test.o -o test"
   ]
  },
  {
   "cell_type": "code",
   "execution_count": 1,
   "metadata": {},
   "outputs": [
    {
     "ename": "FileNotFoundError",
     "evalue": "[Errno 2] No such file or directory: '附件1_9.2.0.s'",
     "output_type": "error",
     "traceback": [
      "\u001b[1;31m---------------------------------------------------------------------------\u001b[0m",
      "\u001b[1;31mFileNotFoundError\u001b[0m                         Traceback (most recent call last)",
      "Cell \u001b[1;32mIn[1], line 1\u001b[0m\n\u001b[1;32m----> 1\u001b[0m \u001b[38;5;28;01mwith\u001b[39;00m \u001b[38;5;28;43mopen\u001b[39;49m\u001b[43m(\u001b[49m\u001b[38;5;124;43m'\u001b[39;49m\u001b[38;5;124;43m附件1_9.2.0.s\u001b[39;49m\u001b[38;5;124;43m'\u001b[39;49m\u001b[43m)\u001b[49m \u001b[38;5;28;01mas\u001b[39;00m f:\n\u001b[0;32m      2\u001b[0m     lines1 \u001b[38;5;241m=\u001b[39m f\u001b[38;5;241m.\u001b[39mreadlines()\n\u001b[0;32m      3\u001b[0m     \u001b[38;5;66;03m# for line in lines:\u001b[39;00m\n\u001b[0;32m      4\u001b[0m     \u001b[38;5;66;03m#     print(line)\u001b[39;00m\n",
      "File \u001b[1;32mc:\\Users\\RX\\.conda\\envs\\ai\\lib\\site-packages\\IPython\\core\\interactiveshell.py:284\u001b[0m, in \u001b[0;36m_modified_open\u001b[1;34m(file, *args, **kwargs)\u001b[0m\n\u001b[0;32m    277\u001b[0m \u001b[38;5;28;01mif\u001b[39;00m file \u001b[38;5;129;01min\u001b[39;00m {\u001b[38;5;241m0\u001b[39m, \u001b[38;5;241m1\u001b[39m, \u001b[38;5;241m2\u001b[39m}:\n\u001b[0;32m    278\u001b[0m     \u001b[38;5;28;01mraise\u001b[39;00m \u001b[38;5;167;01mValueError\u001b[39;00m(\n\u001b[0;32m    279\u001b[0m         \u001b[38;5;124mf\u001b[39m\u001b[38;5;124m\"\u001b[39m\u001b[38;5;124mIPython won\u001b[39m\u001b[38;5;124m'\u001b[39m\u001b[38;5;124mt let you open fd=\u001b[39m\u001b[38;5;132;01m{\u001b[39;00mfile\u001b[38;5;132;01m}\u001b[39;00m\u001b[38;5;124m by default \u001b[39m\u001b[38;5;124m\"\u001b[39m\n\u001b[0;32m    280\u001b[0m         \u001b[38;5;124m\"\u001b[39m\u001b[38;5;124mas it is likely to crash IPython. If you know what you are doing, \u001b[39m\u001b[38;5;124m\"\u001b[39m\n\u001b[0;32m    281\u001b[0m         \u001b[38;5;124m\"\u001b[39m\u001b[38;5;124myou can use builtins\u001b[39m\u001b[38;5;124m'\u001b[39m\u001b[38;5;124m open.\u001b[39m\u001b[38;5;124m\"\u001b[39m\n\u001b[0;32m    282\u001b[0m     )\n\u001b[1;32m--> 284\u001b[0m \u001b[38;5;28;01mreturn\u001b[39;00m \u001b[43mio_open\u001b[49m\u001b[43m(\u001b[49m\u001b[43mfile\u001b[49m\u001b[43m,\u001b[49m\u001b[43m \u001b[49m\u001b[38;5;241;43m*\u001b[39;49m\u001b[43margs\u001b[49m\u001b[43m,\u001b[49m\u001b[43m \u001b[49m\u001b[38;5;241;43m*\u001b[39;49m\u001b[38;5;241;43m*\u001b[39;49m\u001b[43mkwargs\u001b[49m\u001b[43m)\u001b[49m\n",
      "\u001b[1;31mFileNotFoundError\u001b[0m: [Errno 2] No such file or directory: '附件1_9.2.0.s'"
     ]
    }
   ],
   "source": [
    "with open('附件1_9.2.0.s') as f:\n",
    "    lines1 = f.readlines()\n",
    "    # for line in lines:\n",
    "    #     print(line)\n",
    "with open('附件1_13.2.1.s') as f:\n",
    "    lines2 = f.readlines()\n",
    "name_list = ['pushl','movl','call','leal','subl','addl','popl']\n",
    "dict1 = {'pushl':0,'movl':0,'call':0,'leal':0,'subl':0,'addl':0,'popl':0}\n",
    "for i in lines1:\n",
    "    for name in name_list:\n",
    "        if name in i:\n",
    "                dict1[name] += 1\n",
    "dict2 = {'pushl':0,'movl':0,'call':0,'leal':0,'subl':0,'addl':0,'popl':0}\n",
    "for i in lines2:\n",
    "    for name in name_list:\n",
    "        if name in i:\n",
    "                dict2[name] += 1\n",
    "\n"
   ]
  },
  {
   "cell_type": "code",
   "execution_count": 2,
   "metadata": {},
   "outputs": [
    {
     "ename": "NameError",
     "evalue": "name 'dict1' is not defined",
     "output_type": "error",
     "traceback": [
      "\u001b[1;31m---------------------------------------------------------------------------\u001b[0m",
      "\u001b[1;31mNameError\u001b[0m                                 Traceback (most recent call last)",
      "Cell \u001b[1;32mIn[2], line 1\u001b[0m\n\u001b[1;32m----> 1\u001b[0m \u001b[43mdict1\u001b[49m,dict2\n",
      "\u001b[1;31mNameError\u001b[0m: name 'dict1' is not defined"
     ]
    }
   ],
   "source": [
    "dict1,dict2"
   ]
  },
  {
   "cell_type": "code",
   "execution_count": 3,
   "metadata": {},
   "outputs": [],
   "source": [
    "from collections import Counter\n",
    "def read(filename):\n",
    "    with open(filename, 'rb') as file:\n",
    "        exe_content = file.read()\n",
    "\n",
    "    # 输出前100个字节的十六进制表示\n",
    "    t = exe_content.hex().upper()\n",
    "    # print(exe_content.hex().upper())\n",
    "    return dict(Counter(t)),len(t)\n"
   ]
  },
  {
   "cell_type": "code",
   "execution_count": 4,
   "metadata": {},
   "outputs": [],
   "source": [
    "v_11,len_11 = read('exe/11_2.exe')\n",
    "v_12,len_12 = read('exe/12_2.exe')"
   ]
  },
  {
   "cell_type": "code",
   "execution_count": 5,
   "metadata": {},
   "outputs": [
    {
     "name": "stdout",
     "output_type": "stream",
     "text": [
      "4 6.515551235767843\n",
      "D 1.2878367120244376\n",
      "5 5.4047486809219665\n",
      "A 0.5927173007497917\n",
      "9 2.3977714523743403\n",
      "0 48.82150791446821\n",
      "3 3.924257150791447\n",
      "F 3.665648430991391\n",
      "B 0.9867050819216884\n",
      "8 3.747222993612885\n",
      "E 2.220737295195779\n",
      "1 3.6942863093585117\n",
      "C 1.8684046098306026\n",
      "2 3.8895445709525136\n",
      "6 6.733372674257152\n",
      "7 4.24968758678145\n"
     ]
    }
   ],
   "source": [
    "a = 0\n",
    "for i in v_11:\n",
    "    account = v_11[i]/len_11*100\n",
    "    a += account\n",
    "    print(i,account)"
   ]
  },
  {
   "cell_type": "code",
   "execution_count": 6,
   "metadata": {},
   "outputs": [
    {
     "name": "stdout",
     "output_type": "stream",
     "text": [
      "4 6.643092371646062\n",
      "D 1.2740916698159046\n",
      "5 5.750508376972772\n",
      "A 0.5488671741438572\n",
      "9 2.3799240583778727\n",
      "0 47.616476812611346\n",
      "3 4.078712951465746\n",
      "F 3.857366517302813\n",
      "B 0.9276755025283882\n",
      "8 3.8438697835123903\n",
      "E 2.2215623819035795\n",
      "1 3.735895913189008\n",
      "C 1.8418542712663535\n",
      "2 4.063416653169933\n",
      "6 6.886033579873671\n",
      "7 4.330651982220303\n"
     ]
    }
   ],
   "source": [
    "a = 0\n",
    "for i in v_12:\n",
    "    account = v_12[i]/len_12*100\n",
    "    a += account\n",
    "    print(i,account)"
   ]
  },
  {
   "cell_type": "code",
   "execution_count": 9,
   "metadata": {},
   "outputs": [
    {
     "name": "stdout",
     "output_type": "stream",
     "text": [
      "4 6.643092371646062\n",
      "C 1.8418542712663535\n",
      "0 47.616476812611346\n",
      "1 3.735895913189008\n",
      "6 6.886033579873671\n",
      "9 2.3799240583778727\n",
      "2 4.063416653169933\n",
      "B 0.9276755025283882\n",
      "E 2.2215623819035795\n",
      "7 4.330651982220303\n",
      "5 5.750508376972772\n",
      "8 3.8438697835123903\n",
      "A 0.5488671741438572\n",
      "3 4.078712951465746\n",
      "F 3.857366517302813\n",
      "D 1.2740916698159046\n"
     ]
    }
   ],
   "source": [
    "v_13,t = read('./附件2.o')\n",
    "for i in v_13:\n",
    "    account = v_12[i]/len_12*100\n",
    "    a += account\n",
    "    print(i,account)"
   ]
  }
 ],
 "metadata": {
  "kernelspec": {
   "display_name": "ai",
   "language": "python",
   "name": "python3"
  },
  "language_info": {
   "codemirror_mode": {
    "name": "ipython",
    "version": 3
   },
   "file_extension": ".py",
   "mimetype": "text/x-python",
   "name": "python",
   "nbconvert_exporter": "python",
   "pygments_lexer": "ipython3",
   "version": "3.8.17"
  }
 },
 "nbformat": 4,
 "nbformat_minor": 2
}
