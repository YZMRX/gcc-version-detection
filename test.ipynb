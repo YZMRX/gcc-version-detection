{
 "cells": [
  {
   "cell_type": "markdown",
   "metadata": {},
   "source": [
    ".\\g++ -fexec-charset=GBK \"C:\\Users\\RX\\Desktop\\C题附件\\附件1.cpp\" -o 附件1.exe -leasyx -lgdi32 -lole32\n",
    "\n",
    ".\\g++ -fexec-charset=GBK \"C:\\Users\\RX\\Desktop\\C题附件\\附件2.cpp\" -o 附件2.exe\n",
    "\n",
    "g++ -fexec-charset=GBK \"C:\\Users\\RX\\Desktop\\C题附件\\附件2.cpp\" -o 附件2.exe -ftime-report"
   ]
  },
  {
   "cell_type": "markdown",
   "metadata": {},
   "source": [
    "预处理：gcc -E test.c -o test.i\n",
    "\n",
    "编译：gcc -S test.i -o test.s\n",
    "\n",
    "汇编：gcc -c test.s -o test.o\n",
    "\n",
    "链接：gcc test.o -o test"
   ]
  },
  {
   "cell_type": "markdown",
   "metadata": {},
   "source": [
    "g++ -S \"C:\\Users\\RX\\Desktop\\C题附件\\1.cpp\" -o C:\\Users\\RX\\Desktop\\C题附件\\s\\附件1_06.1.s\n",
    "\n",
    "g++ -c \"C:\\Users\\RX\\Desktop\\C题附件\\1.cpp\" -o C:\\Users\\RX\\Desktop\\C题附件\\o\\附件1_06.1.o"
   ]
  },
  {
   "cell_type": "markdown",
   "metadata": {},
   "source": [
    "g++ -S \"C:\\Users\\RX\\Desktop\\C题附件\\2.cpp\" -o C:\\Users\\RX\\Desktop\\C题附件\\s\\附件2_06.1.s\n",
    "\n",
    "g++ -c \"C:\\Users\\RX\\Desktop\\C题附件\\2.cpp\" -o C:\\Users\\RX\\Desktop\\C题附件\\o\\附件2_06.1.o"
   ]
  },
  {
   "cell_type": "markdown",
   "metadata": {},
   "source": [
    "g++ \"C:\\Users\\RX\\Desktop\\C题附件\\1.cpp\" -o C:\\Users\\RX\\Desktop\\C题附件\\exe\\附件1_06.1.exe -leasyx -lgdi32 -lole32\n",
    "\n",
    "g++ \"C:\\Users\\RX\\Desktop\\C题附件\\2.cpp\" -o C:\\Users\\RX\\Desktop\\C题附件\\exe\\附件2_06.1.exe"
   ]
  }
 ],
 "metadata": {
  "kernelspec": {
   "display_name": "ai",
   "language": "python",
   "name": "python3"
  },
  "language_info": {
   "codemirror_mode": {
    "name": "ipython",
    "version": 3
   },
   "file_extension": ".py",
   "mimetype": "text/x-python",
   "name": "python",
   "nbconvert_exporter": "python",
   "pygments_lexer": "ipython3",
   "version": "3.8.17"
  }
 },
 "nbformat": 4,
 "nbformat_minor": 2
}
