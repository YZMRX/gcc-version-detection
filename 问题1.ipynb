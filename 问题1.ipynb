{
 "cells": [
  {
   "cell_type": "code",
   "execution_count": 6,
   "metadata": {},
   "outputs": [],
   "source": [
    "# 返回指令集出现次数\n",
    "import re\n",
    "import collections\n",
    "import pandas\n",
    "def read_s(file_name):\n",
    "    \"\"\"\n",
    "    读取指令集文件，并返回指令集出现次数的字典\n",
    "    :param file_name: 指令集文件名\n",
    "    :return: 指令集出现次数的字典\n",
    "    \"\"\"\n",
    "    instruction_pattern = re.compile(r'\\b(\\w+)\\b')\n",
    "    dict_s = {}\n",
    "    with open(file_name, 'r', encoding='utf-8') as f:\n",
    "        lines = f.readlines()\n",
    "        for line in lines:\n",
    "            match1 = instruction_pattern.search(line)\n",
    "            if  match1:\n",
    "                instruction = match1.group(1)\n",
    "                if dict_s.get(instruction) is None:\n",
    "                    dict_s[instruction] = 1\n",
    "                else:\n",
    "                    dict_s[instruction] += 1\n",
    "    return dict_s"
   ]
  },
  {
   "cell_type": "code",
   "execution_count": 7,
   "metadata": {},
   "outputs": [],
   "source": [
    "# 此函数用来处理o文件，统计各数字字母出现次数\n",
    "import collections\n",
    "def read_o(filename):\n",
    "    with open(filename, 'rb') as file:\n",
    "        exe_content = file.read()\n",
    "    # 输出前100个字节的十六进制表示\n",
    "    text = exe_content.hex().upper()\n",
    "    dict_o = dict(collections.Counter(text))\n",
    "    return dict_o"
   ]
  },
  {
   "cell_type": "code",
   "execution_count": 8,
   "metadata": {},
   "outputs": [],
   "source": [
    "# 此函数用于切割s文件\n",
    "import os\n",
    "import pandas as pd\n",
    "def split_by_colon(input_file,add):\n",
    "    if not os.path.exists(f\"{add}\"):\n",
    "        os.mkdir(f\"{add}\")\n",
    "    if not os.path.exists(f\"{add}/\"+input_file):\n",
    "        os.mkdir(f\"{add}/\"+input_file.split(\".s\")[0])\n",
    "    path = os.path.join(f\"{add}/\",input_file.split(\".s\")[0])\n",
    "    with open('s/'+input_file, 'r') as f:\n",
    "        lines = f.readlines()\n",
    "\n",
    "    # 初始化一个空字典，用于存储冒号后的内容\n",
    "    parts = {}\n",
    "    key = \"pre\"\n",
    "    # 遍历每一行\n",
    "    for line in lines:\n",
    "        # 找到冒号的位置\n",
    "        colon_index = line.find(\":\")\n",
    "        if colon_index != -1 and \".ident\" not in line and \".ascii\" not in line:\n",
    "            # 如果找到了冒号，则将冒号后的内容保存到字典中\n",
    "            key = line[:colon_index].strip()  # 冒号前的部分作为键\n",
    "        if parts.get(key) is None:\n",
    "            parts[key] = []\n",
    "        parts[key].append(line)\n",
    "\n",
    "    # 逐个保存冒号后的内容到单独的文件中\n",
    "    for key, value in parts.items():\n",
    "        output_file = os.path.join(path,key+\".txt\")  # 根据冒号前的内容构造文件名\n",
    "        with open(output_file, 'w') as f:\n",
    "            for txt in value:\n",
    "                f.write(txt)"
   ]
  },
  {
   "cell_type": "code",
   "execution_count": 9,
   "metadata": {},
   "outputs": [],
   "source": [
    "# 统计s文件各字符出现次数,保存为csv文件\n",
    "import pandas as pd\n",
    "import os\n",
    "def one_data(name:str,floder_name):\n",
    "    # 输入的字典列表\n",
    "    dict_list = []\n",
    "    name_list = os.listdir(floder_name)\n",
    "    for name_l in name_list:\n",
    "        if name in name_l:\n",
    "            temp = read_s(f\"{floder_name}/{name_l}\")\n",
    "            temp1 = read_o(f\"{floder_name}/{name_l}\".replace('s','o'))\n",
    "            temp.update(temp1)\n",
    "            temp[\"version\"] = name_l.split(\"_\")[1][:2]\n",
    "            # print(temp)\n",
    "            dict_list.append(temp)\n",
    "    df = pd.DataFrame.from_dict(dict_list)\n",
    "    df = df.fillna(0)\n",
    "    df.to_csv(f'{name}.csv', index=False)  # 如果不希望保存索引列，可以将 index 参数设置为 False"
   ]
  },
  {
   "cell_type": "code",
   "execution_count": 10,
   "metadata": {},
   "outputs": [],
   "source": [
    "# 用于提取特征，保存到附件1.csv\n",
    "one_data('附件2_','s')"
   ]
  },
  {
   "cell_type": "markdown",
   "metadata": {},
   "source": [
    "# 这段先不用运行\n",
    "file_name = os.listdir(\"s\")\n",
    "for name in file_name:\n",
    "    if \"附件1\" in name:\n",
    "        split_by_colon(name,\"附件1\")\n",
    "    if \"附件2\" in name:\n",
    "        split_by_colon(name,\"附件2\")"
   ]
  }
 ],
 "metadata": {
  "kernelspec": {
   "display_name": "ai",
   "language": "python",
   "name": "python3"
  },
  "language_info": {
   "codemirror_mode": {
    "name": "ipython",
    "version": 3
   },
   "file_extension": ".py",
   "mimetype": "text/x-python",
   "name": "python",
   "nbconvert_exporter": "python",
   "pygments_lexer": "ipython3",
   "version": "3.8.17"
  }
 },
 "nbformat": 4,
 "nbformat_minor": 2
}
