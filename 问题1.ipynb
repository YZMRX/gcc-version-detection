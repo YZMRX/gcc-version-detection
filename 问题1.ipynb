{
 "cells": [
  {
   "cell_type": "code",
   "execution_count": 22,
   "metadata": {},
   "outputs": [],
   "source": [
    "import os\n",
    "import pandas as pd\n",
    "def split_by_colon(input_file,add):\n",
    "    if not os.path.exists(f\"{add}\"):\n",
    "        os.mkdir(f\"{add}\")\n",
    "    if not os.path.exists(f\"{add}/\"+input_file):\n",
    "        os.mkdir(f\"{add}/\"+input_file.split(\".s\")[0])\n",
    "    path = os.path.join(f\"{add}/\",input_file.split(\".s\")[0])\n",
    "    with open('s/'+input_file, 'r') as f:\n",
    "        lines = f.readlines()\n",
    "\n",
    "    # 初始化一个空字典，用于存储冒号后的内容\n",
    "    parts = {}\n",
    "    key = \"pre\"\n",
    "    # 遍历每一行\n",
    "    for line in lines:\n",
    "        # 找到冒号的位置\n",
    "        colon_index = line.find(\":\")\n",
    "        if colon_index != -1 and \".ident\" not in line and \".ascii\" not in line:\n",
    "            # 如果找到了冒号，则将冒号后的内容保存到字典中\n",
    "            key = line[:colon_index].strip()  # 冒号前的部分作为键\n",
    "        if parts.get(key) is None:\n",
    "            parts[key] = []\n",
    "        parts[key].append(line)\n",
    "\n",
    "    # 逐个保存冒号后的内容到单独的文件中\n",
    "    for key, value in parts.items():\n",
    "        output_file = os.path.join(path,key+\".txt\")  # 根据冒号前的内容构造文件名\n",
    "        with open(output_file, 'w') as f:\n",
    "            for txt in value:\n",
    "                f.write(txt)\n",
    "# 测试函数"
   ]
  },
  {
   "cell_type": "code",
   "execution_count": 4,
   "metadata": {},
   "outputs": [],
   "source": [
    "file_name = os.listdir(\"s\")\n",
    "for name in file_name:\n",
    "    if \"附件1\" in name:\n",
    "        split_by_colon(name,\"附件1\")\n",
    "    if \"附件2\" in name:\n",
    "        split_by_colon(name,\"附件2\")"
   ]
  },
  {
   "cell_type": "code",
   "execution_count": 21,
   "metadata": {},
   "outputs": [
    {
     "name": "stdout",
     "output_type": "stream",
     "text": [
      "['附件1_10.2', '附件1_11.2', '附件1_12.2', '附件1_13.2', '附件1_6.2', '附件1_7.2', '附件1_8.2', '附件1_9.2']\n",
      "附件1_10.2 85 ['L19.txt', 'L20.txt', 'L21.txt', 'L23.txt', 'L26.txt', 'L35.txt', 'L40.txt', 'L41.txt', 'L42.txt', 'L43.txt', 'L44.txt', 'L45.txt', 'L46.txt', 'L47.txt', 'L48.txt', 'L49.txt', 'L50.txt', 'L51.txt', 'L53.txt', 'L54.txt', 'L55.txt', 'L56.txt', 'L57.txt', 'L59.txt', 'L60.txt', 'L61.txt', 'L62.txt', 'L63.txt', 'L64.txt', 'L65.txt', 'L66.txt', 'L67.txt', 'L68.txt', 'L69.txt', 'L70.txt', 'L71.txt', 'L72.txt', 'L73.txt', 'L74.txt', 'L75.txt', 'L76.txt', 'L77.txt', 'L78.txt', 'L79.txt', 'L80.txt', 'L81.txt', 'L82.txt', 'L83.txt', 'L84.txt', 'L85.txt', 'L86.txt', 'L87.txt', 'L88.txt', 'L90.txt', 'L91.txt', 'L92.txt', 'LC0.txt', 'LC1.txt', 'LC2.txt', 'LC3.txt', 'LC4.txt', 'LC5.txt', 'pre.txt', '_dead.txt', '_main.txt', '_wined.txt', '__ZN4Boss3delEv.txt', '__ZN4Boss4fireER8E_Bullet.txt', '__ZN4Boss4hurtEv.txt', '__ZN4Boss4moveEv.txt', '__ZN4Boss4showEv.txt', '__ZN4BossC1Ev.txt', '__ZN4Tank3delEv.txt', '__ZN4Tank4fireER6Bullet.txt', '__ZN4Tank4hurtEv.txt', '__ZN4Tank4showEv.txt', '__ZN4TankC1Eii.txt', '__ZN6Bullet3delEv.txt', '__ZN6Bullet4moveEv.txt', '__ZN6Bullet4showEv.txt', '__ZN6BulletC1Ev.txt', '__ZN8E_Bullet3delEv.txt', '__ZN8E_Bullet4moveEv.txt', '__ZN8E_Bullet4showEv.txt', '__ZN8E_BulletC1Ev.txt']\n",
      "附件1_11.2 88 ['L19.txt', 'L20.txt', 'L21.txt', 'L23.txt', 'L26.txt', 'L35.txt', 'L40.txt', 'L41.txt', 'L42.txt', 'L43.txt', 'L44.txt', 'L45.txt', 'L46.txt', 'L47.txt', 'L48.txt', 'L49.txt', 'L50.txt', 'L51.txt', 'L52.txt', 'L53.txt', 'L54.txt', 'L55.txt', 'L57.txt', 'L58.txt', 'L59.txt', 'L60.txt', 'L61.txt', 'L62.txt', 'L64.txt', 'L65.txt', 'L66.txt', 'L67.txt', 'L68.txt', 'L69.txt', 'L70.txt', 'L71.txt', 'L72.txt', 'L73.txt', 'L74.txt', 'L75.txt', 'L76.txt', 'L77.txt', 'L78.txt', 'L79.txt', 'L80.txt', 'L81.txt', 'L82.txt', 'L83.txt', 'L84.txt', 'L85.txt', 'L86.txt', 'L87.txt', 'L88.txt', 'L89.txt', 'L90.txt', 'L91.txt', 'L93.txt', 'L94.txt', 'L95.txt', 'LC0.txt', 'LC1.txt', 'LC2.txt', 'LC3.txt', 'LC4.txt', 'LC5.txt', 'pre.txt', '_dead.txt', '_main.txt', '_wined.txt', '__ZN4Boss3delEv.txt', '__ZN4Boss4fireER8E_Bullet.txt', '__ZN4Boss4hurtEv.txt', '__ZN4Boss4moveEv.txt', '__ZN4Boss4showEv.txt', '__ZN4BossC1Ev.txt', '__ZN4Tank3delEv.txt', '__ZN4Tank4fireER6Bullet.txt', '__ZN4Tank4hurtEv.txt', '__ZN4Tank4showEv.txt', '__ZN4TankC1Eii.txt', '__ZN6Bullet3delEv.txt', '__ZN6Bullet4moveEv.txt', '__ZN6Bullet4showEv.txt', '__ZN6BulletC1Ev.txt', '__ZN8E_Bullet3delEv.txt', '__ZN8E_Bullet4moveEv.txt', '__ZN8E_Bullet4showEv.txt', '__ZN8E_BulletC1Ev.txt']\n",
      "附件1_12.2 88 ['L19.txt', 'L20.txt', 'L21.txt', 'L23.txt', 'L26.txt', 'L35.txt', 'L40.txt', 'L41.txt', 'L42.txt', 'L43.txt', 'L44.txt', 'L45.txt', 'L46.txt', 'L47.txt', 'L48.txt', 'L49.txt', 'L50.txt', 'L51.txt', 'L52.txt', 'L53.txt', 'L54.txt', 'L55.txt', 'L57.txt', 'L58.txt', 'L59.txt', 'L60.txt', 'L61.txt', 'L62.txt', 'L64.txt', 'L65.txt', 'L66.txt', 'L67.txt', 'L68.txt', 'L69.txt', 'L70.txt', 'L71.txt', 'L72.txt', 'L73.txt', 'L74.txt', 'L75.txt', 'L76.txt', 'L77.txt', 'L78.txt', 'L79.txt', 'L80.txt', 'L81.txt', 'L82.txt', 'L83.txt', 'L84.txt', 'L85.txt', 'L86.txt', 'L87.txt', 'L88.txt', 'L89.txt', 'L90.txt', 'L91.txt', 'L93.txt', 'L94.txt', 'L95.txt', 'LC0.txt', 'LC1.txt', 'LC2.txt', 'LC3.txt', 'LC4.txt', 'LC5.txt', 'pre.txt', '_dead.txt', '_main.txt', '_wined.txt', '__ZN4Boss3delEv.txt', '__ZN4Boss4fireER8E_Bullet.txt', '__ZN4Boss4hurtEv.txt', '__ZN4Boss4moveEv.txt', '__ZN4Boss4showEv.txt', '__ZN4BossC1Ev.txt', '__ZN4Tank3delEv.txt', '__ZN4Tank4fireER6Bullet.txt', '__ZN4Tank4hurtEv.txt', '__ZN4Tank4showEv.txt', '__ZN4TankC1Eii.txt', '__ZN6Bullet3delEv.txt', '__ZN6Bullet4moveEv.txt', '__ZN6Bullet4showEv.txt', '__ZN6BulletC1Ev.txt', '__ZN8E_Bullet3delEv.txt', '__ZN8E_Bullet4moveEv.txt', '__ZN8E_Bullet4showEv.txt', '__ZN8E_BulletC1Ev.txt']\n",
      "附件1_13.2 88 ['L19.txt', 'L20.txt', 'L21.txt', 'L23.txt', 'L26.txt', 'L35.txt', 'L40.txt', 'L41.txt', 'L42.txt', 'L43.txt', 'L44.txt', 'L45.txt', 'L46.txt', 'L47.txt', 'L48.txt', 'L49.txt', 'L50.txt', 'L51.txt', 'L52.txt', 'L53.txt', 'L54.txt', 'L55.txt', 'L57.txt', 'L58.txt', 'L59.txt', 'L60.txt', 'L61.txt', 'L62.txt', 'L64.txt', 'L65.txt', 'L66.txt', 'L67.txt', 'L68.txt', 'L69.txt', 'L70.txt', 'L71.txt', 'L72.txt', 'L73.txt', 'L74.txt', 'L75.txt', 'L76.txt', 'L77.txt', 'L78.txt', 'L79.txt', 'L80.txt', 'L81.txt', 'L82.txt', 'L83.txt', 'L84.txt', 'L85.txt', 'L86.txt', 'L87.txt', 'L88.txt', 'L89.txt', 'L90.txt', 'L91.txt', 'L93.txt', 'L94.txt', 'L95.txt', 'LC0.txt', 'LC1.txt', 'LC2.txt', 'LC3.txt', 'LC4.txt', 'LC5.txt', 'pre.txt', '_dead.txt', '_main.txt', '_wined.txt', '__ZN4Boss3delEv.txt', '__ZN4Boss4fireER8E_Bullet.txt', '__ZN4Boss4hurtEv.txt', '__ZN4Boss4moveEv.txt', '__ZN4Boss4showEv.txt', '__ZN4BossC1Ev.txt', '__ZN4Tank3delEv.txt', '__ZN4Tank4fireER6Bullet.txt', '__ZN4Tank4hurtEv.txt', '__ZN4Tank4showEv.txt', '__ZN4TankC1Eii.txt', '__ZN6Bullet3delEv.txt', '__ZN6Bullet4moveEv.txt', '__ZN6Bullet4showEv.txt', '__ZN6BulletC1Ev.txt', '__ZN8E_Bullet3delEv.txt', '__ZN8E_Bullet4moveEv.txt', '__ZN8E_Bullet4showEv.txt', '__ZN8E_BulletC1Ev.txt']\n",
      "附件1_6.2 85 ['L19.txt', 'L20.txt', 'L21.txt', 'L23.txt', 'L26.txt', 'L35.txt', 'L40.txt', 'L41.txt', 'L42.txt', 'L43.txt', 'L44.txt', 'L45.txt', 'L46.txt', 'L47.txt', 'L48.txt', 'L49.txt', 'L50.txt', 'L51.txt', 'L53.txt', 'L54.txt', 'L55.txt', 'L56.txt', 'L57.txt', 'L59.txt', 'L60.txt', 'L61.txt', 'L62.txt', 'L63.txt', 'L64.txt', 'L65.txt', 'L66.txt', 'L67.txt', 'L68.txt', 'L69.txt', 'L70.txt', 'L71.txt', 'L72.txt', 'L73.txt', 'L74.txt', 'L75.txt', 'L76.txt', 'L77.txt', 'L78.txt', 'L79.txt', 'L80.txt', 'L81.txt', 'L82.txt', 'L83.txt', 'L84.txt', 'L85.txt', 'L86.txt', 'L88.txt', 'L89.txt', 'L92.txt', 'L93.txt', 'L94.txt', 'LC0.txt', 'LC1.txt', 'LC2.txt', 'LC3.txt', 'LC4.txt', 'LC5.txt', 'pre.txt', '_dead.txt', '_main.txt', '_wined.txt', '__ZN4Boss3delEv.txt', '__ZN4Boss4fireER8E_Bullet.txt', '__ZN4Boss4hurtEv.txt', '__ZN4Boss4moveEv.txt', '__ZN4Boss4showEv.txt', '__ZN4BossC1Ev.txt', '__ZN4Tank3delEv.txt', '__ZN4Tank4fireER6Bullet.txt', '__ZN4Tank4hurtEv.txt', '__ZN4Tank4showEv.txt', '__ZN4TankC1Eii.txt', '__ZN6Bullet3delEv.txt', '__ZN6Bullet4moveEv.txt', '__ZN6Bullet4showEv.txt', '__ZN6BulletC1Ev.txt', '__ZN8E_Bullet3delEv.txt', '__ZN8E_Bullet4moveEv.txt', '__ZN8E_Bullet4showEv.txt', '__ZN8E_BulletC1Ev.txt']\n",
      "附件1_7.2 85 ['L19.txt', 'L20.txt', 'L21.txt', 'L23.txt', 'L26.txt', 'L35.txt', 'L40.txt', 'L41.txt', 'L42.txt', 'L43.txt', 'L44.txt', 'L45.txt', 'L46.txt', 'L47.txt', 'L48.txt', 'L49.txt', 'L50.txt', 'L51.txt', 'L53.txt', 'L54.txt', 'L55.txt', 'L56.txt', 'L57.txt', 'L59.txt', 'L60.txt', 'L61.txt', 'L62.txt', 'L63.txt', 'L64.txt', 'L65.txt', 'L66.txt', 'L67.txt', 'L68.txt', 'L69.txt', 'L70.txt', 'L71.txt', 'L72.txt', 'L73.txt', 'L74.txt', 'L75.txt', 'L76.txt', 'L77.txt', 'L78.txt', 'L79.txt', 'L80.txt', 'L81.txt', 'L82.txt', 'L83.txt', 'L84.txt', 'L85.txt', 'L86.txt', 'L88.txt', 'L89.txt', 'L92.txt', 'L93.txt', 'L94.txt', 'LC0.txt', 'LC1.txt', 'LC2.txt', 'LC3.txt', 'LC4.txt', 'LC5.txt', 'pre.txt', '_dead.txt', '_main.txt', '_wined.txt', '__ZN4Boss3delEv.txt', '__ZN4Boss4fireER8E_Bullet.txt', '__ZN4Boss4hurtEv.txt', '__ZN4Boss4moveEv.txt', '__ZN4Boss4showEv.txt', '__ZN4BossC1Ev.txt', '__ZN4Tank3delEv.txt', '__ZN4Tank4fireER6Bullet.txt', '__ZN4Tank4hurtEv.txt', '__ZN4Tank4showEv.txt', '__ZN4TankC1Eii.txt', '__ZN6Bullet3delEv.txt', '__ZN6Bullet4moveEv.txt', '__ZN6Bullet4showEv.txt', '__ZN6BulletC1Ev.txt', '__ZN8E_Bullet3delEv.txt', '__ZN8E_Bullet4moveEv.txt', '__ZN8E_Bullet4showEv.txt', '__ZN8E_BulletC1Ev.txt']\n",
      "附件1_8.2 85 ['L19.txt', 'L20.txt', 'L21.txt', 'L23.txt', 'L26.txt', 'L35.txt', 'L40.txt', 'L41.txt', 'L42.txt', 'L43.txt', 'L44.txt', 'L45.txt', 'L46.txt', 'L47.txt', 'L48.txt', 'L49.txt', 'L50.txt', 'L51.txt', 'L53.txt', 'L54.txt', 'L55.txt', 'L56.txt', 'L57.txt', 'L59.txt', 'L60.txt', 'L61.txt', 'L62.txt', 'L63.txt', 'L64.txt', 'L65.txt', 'L66.txt', 'L67.txt', 'L68.txt', 'L69.txt', 'L70.txt', 'L71.txt', 'L72.txt', 'L73.txt', 'L74.txt', 'L75.txt', 'L76.txt', 'L77.txt', 'L78.txt', 'L79.txt', 'L80.txt', 'L81.txt', 'L82.txt', 'L83.txt', 'L84.txt', 'L85.txt', 'L86.txt', 'L88.txt', 'L89.txt', 'L92.txt', 'L93.txt', 'L94.txt', 'LC0.txt', 'LC1.txt', 'LC2.txt', 'LC3.txt', 'LC4.txt', 'LC5.txt', 'pre.txt', '_dead.txt', '_main.txt', '_wined.txt', '__ZN4Boss3delEv.txt', '__ZN4Boss4fireER8E_Bullet.txt', '__ZN4Boss4hurtEv.txt', '__ZN4Boss4moveEv.txt', '__ZN4Boss4showEv.txt', '__ZN4BossC1Ev.txt', '__ZN4Tank3delEv.txt', '__ZN4Tank4fireER6Bullet.txt', '__ZN4Tank4hurtEv.txt', '__ZN4Tank4showEv.txt', '__ZN4TankC1Eii.txt', '__ZN6Bullet3delEv.txt', '__ZN6Bullet4moveEv.txt', '__ZN6Bullet4showEv.txt', '__ZN6BulletC1Ev.txt', '__ZN8E_Bullet3delEv.txt', '__ZN8E_Bullet4moveEv.txt', '__ZN8E_Bullet4showEv.txt', '__ZN8E_BulletC1Ev.txt']\n",
      "附件1_9.2 85 ['L19.txt', 'L20.txt', 'L21.txt', 'L23.txt', 'L26.txt', 'L35.txt', 'L40.txt', 'L41.txt', 'L42.txt', 'L43.txt', 'L44.txt', 'L45.txt', 'L46.txt', 'L47.txt', 'L48.txt', 'L49.txt', 'L50.txt', 'L51.txt', 'L53.txt', 'L54.txt', 'L55.txt', 'L56.txt', 'L57.txt', 'L59.txt', 'L60.txt', 'L61.txt', 'L62.txt', 'L63.txt', 'L64.txt', 'L65.txt', 'L66.txt', 'L67.txt', 'L68.txt', 'L69.txt', 'L70.txt', 'L71.txt', 'L72.txt', 'L73.txt', 'L74.txt', 'L75.txt', 'L76.txt', 'L77.txt', 'L78.txt', 'L79.txt', 'L80.txt', 'L81.txt', 'L82.txt', 'L83.txt', 'L84.txt', 'L85.txt', 'L86.txt', 'L87.txt', 'L88.txt', 'L90.txt', 'L91.txt', 'L92.txt', 'LC0.txt', 'LC1.txt', 'LC2.txt', 'LC3.txt', 'LC4.txt', 'LC5.txt', 'pre.txt', '_dead.txt', '_main.txt', '_wined.txt', '__ZN4Boss3delEv.txt', '__ZN4Boss4fireER8E_Bullet.txt', '__ZN4Boss4hurtEv.txt', '__ZN4Boss4moveEv.txt', '__ZN4Boss4showEv.txt', '__ZN4BossC1Ev.txt', '__ZN4Tank3delEv.txt', '__ZN4Tank4fireER6Bullet.txt', '__ZN4Tank4hurtEv.txt', '__ZN4Tank4showEv.txt', '__ZN4TankC1Eii.txt', '__ZN6Bullet3delEv.txt', '__ZN6Bullet4moveEv.txt', '__ZN6Bullet4showEv.txt', '__ZN6BulletC1Ev.txt', '__ZN8E_Bullet3delEv.txt', '__ZN8E_Bullet4moveEv.txt', '__ZN8E_Bullet4showEv.txt', '__ZN8E_BulletC1Ev.txt']\n"
     ]
    }
   ],
   "source": [
    "list_name = os.listdir(\"附件1\")\n",
    "print(sorted(list_name,reverse=False))\n",
    "list1 = {}\n",
    "for name in list_name:\n",
    "    list1[name]=os.listdir(\"附件1/\"+name)\n",
    "for key,value in list1.items():\n",
    "    print(key,len(value),value)\n",
    "df = pd.DataFrame.from_dict(list1,orient='index')\n",
    "df.to_csv(\"附件1.csv\")"
   ]
  },
  {
   "cell_type": "code",
   "execution_count": 8,
   "metadata": {},
   "outputs": [
    {
     "name": "stdout",
     "output_type": "stream",
     "text": [
      "附件2_10.2 84 ['L11.txt', 'L12.txt', 'L13.txt', 'L14.txt', 'L16.txt', 'L17.txt', 'L18.txt', 'L19.txt', 'L2.txt', 'L20.txt', 'L21.txt', 'L22.txt', 'L23.txt', 'L25.txt', 'L27.txt', 'L29.txt', 'L3.txt', 'L30.txt', 'L31.txt', 'L32.txt', 'L33.txt', 'L34.txt', 'L35.txt', 'L36.txt', 'L37.txt', 'L38.txt', 'L39.txt', 'L4.txt', 'L40.txt', 'L41.txt', 'L42.txt', 'L43.txt', 'L44.txt', 'L45.txt', 'L46.txt', 'L47.txt', 'L48.txt', 'L5.txt', 'L50.txt', 'L51.txt', 'L52.txt', 'L53.txt', 'L54.txt', 'L56.txt', 'L58.txt', 'L6.txt', 'L63.txt', 'L7.txt', 'L8.txt', 'L9.txt', 'LC0.txt', 'LC1.txt', 'LC10.txt', 'LC11.txt', 'LC12.txt', 'LC13.txt', 'LC14.txt', 'LC15.txt', 'LC16.txt', 'LC17.txt', 'LC18.txt', 'LC2.txt', 'LC3.txt', 'LC4.txt', 'LC5.txt', 'LC6.txt', 'LC7.txt', 'LC8.txt', 'LC9.txt', 'LLSDA1616.txt', 'LLSDACSB1616.txt', 'LLSDACSE1616.txt', 'pre.txt', '_board.txt', '_main.txt', '_o.txt', '__GLOBAL__sub_I_board.txt', '__Z41__static_initialization_and_destruction_0ii.txt', '__Z4initv.txt', '__Z5placeb.txt', '__Z7computev.txt', '__Z7displayv.txt', '__ZStL19piecewise_construct.txt', '___tcf_0.txt']\n",
      "附件2_11.2 83 ['L11.txt', 'L12.txt', 'L13.txt', 'L14.txt', 'L16.txt', 'L17.txt', 'L18.txt', 'L19.txt', 'L2.txt', 'L20.txt', 'L21.txt', 'L22.txt', 'L23.txt', 'L25.txt', 'L27.txt', 'L29.txt', 'L3.txt', 'L30.txt', 'L31.txt', 'L32.txt', 'L33.txt', 'L34.txt', 'L35.txt', 'L36.txt', 'L37.txt', 'L38.txt', 'L39.txt', 'L4.txt', 'L40.txt', 'L41.txt', 'L42.txt', 'L43.txt', 'L44.txt', 'L45.txt', 'L46.txt', 'L47.txt', 'L48.txt', 'L5.txt', 'L50.txt', 'L51.txt', 'L52.txt', 'L53.txt', 'L54.txt', 'L56.txt', 'L58.txt', 'L6.txt', 'L63.txt', 'L7.txt', 'L8.txt', 'L9.txt', 'LC0.txt', 'LC1.txt', 'LC10.txt', 'LC11.txt', 'LC12.txt', 'LC13.txt', 'LC14.txt', 'LC15.txt', 'LC16.txt', 'LC17.txt', 'LC18.txt', 'LC2.txt', 'LC3.txt', 'LC4.txt', 'LC5.txt', 'LC6.txt', 'LC7.txt', 'LC8.txt', 'LC9.txt', 'LLSDA1802.txt', 'LLSDACSB1802.txt', 'LLSDACSE1802.txt', 'pre.txt', '_board.txt', '_main.txt', '_o.txt', '__GLOBAL__sub_I_board.txt', '__Z41__static_initialization_and_destruction_0ii.txt', '__Z4initv.txt', '__Z5placeb.txt', '__Z7computev.txt', '__Z7displayv.txt', '___tcf_0.txt']\n",
      "附件2_12.2 83 ['L11.txt', 'L12.txt', 'L13.txt', 'L14.txt', 'L16.txt', 'L17.txt', 'L18.txt', 'L19.txt', 'L2.txt', 'L20.txt', 'L21.txt', 'L22.txt', 'L23.txt', 'L25.txt', 'L27.txt', 'L29.txt', 'L3.txt', 'L30.txt', 'L31.txt', 'L32.txt', 'L33.txt', 'L34.txt', 'L35.txt', 'L36.txt', 'L37.txt', 'L38.txt', 'L39.txt', 'L4.txt', 'L40.txt', 'L41.txt', 'L42.txt', 'L43.txt', 'L44.txt', 'L45.txt', 'L46.txt', 'L47.txt', 'L48.txt', 'L5.txt', 'L50.txt', 'L51.txt', 'L52.txt', 'L53.txt', 'L54.txt', 'L56.txt', 'L58.txt', 'L6.txt', 'L63.txt', 'L7.txt', 'L8.txt', 'L9.txt', 'LC0.txt', 'LC1.txt', 'LC10.txt', 'LC11.txt', 'LC12.txt', 'LC13.txt', 'LC14.txt', 'LC15.txt', 'LC16.txt', 'LC17.txt', 'LC18.txt', 'LC2.txt', 'LC3.txt', 'LC4.txt', 'LC5.txt', 'LC6.txt', 'LC7.txt', 'LC8.txt', 'LC9.txt', 'LLSDA1837.txt', 'LLSDACSB1837.txt', 'LLSDACSE1837.txt', 'pre.txt', '_board.txt', '_main.txt', '_o.txt', '__GLOBAL__sub_I_board.txt', '__Z41__static_initialization_and_destruction_0ii.txt', '__Z4initv.txt', '__Z5placeb.txt', '__Z7computev.txt', '__Z7displayv.txt', '___tcf_0.txt']\n",
      "附件2_13.2 82 ['L11.txt', 'L12.txt', 'L13.txt', 'L14.txt', 'L16.txt', 'L17.txt', 'L18.txt', 'L19.txt', 'L2.txt', 'L20.txt', 'L21.txt', 'L22.txt', 'L23.txt', 'L25.txt', 'L27.txt', 'L29.txt', 'L3.txt', 'L30.txt', 'L31.txt', 'L32.txt', 'L33.txt', 'L34.txt', 'L35.txt', 'L36.txt', 'L37.txt', 'L38.txt', 'L39.txt', 'L4.txt', 'L40.txt', 'L41.txt', 'L42.txt', 'L43.txt', 'L44.txt', 'L45.txt', 'L46.txt', 'L47.txt', 'L48.txt', 'L5.txt', 'L50.txt', 'L51.txt', 'L52.txt', 'L53.txt', 'L54.txt', 'L56.txt', 'L58.txt', 'L6.txt', 'L7.txt', 'L8.txt', 'L9.txt', 'LC0.txt', 'LC1.txt', 'LC10.txt', 'LC11.txt', 'LC12.txt', 'LC13.txt', 'LC14.txt', 'LC15.txt', 'LC16.txt', 'LC17.txt', 'LC18.txt', 'LC2.txt', 'LC3.txt', 'LC4.txt', 'LC5.txt', 'LC6.txt', 'LC7.txt', 'LC8.txt', 'LC9.txt', 'LLSDA2069.txt', 'LLSDACSB2069.txt', 'LLSDACSE2069.txt', 'pre.txt', '_board.txt', '_main.txt', '_o.txt', '__Z4initv.txt', '__Z5placeb.txt', '__Z7computev.txt', '__Z7displayv.txt', '__ZNSt8__detail30__integer_to_chars_is_unsignedIjEE.txt', '__ZNSt8__detail30__integer_to_chars_is_unsignedImEE.txt', '__ZNSt8__detail30__integer_to_chars_is_unsignedIyEE.txt']\n",
      "附件2_6.2 83 ['L11.txt', 'L12.txt', 'L13.txt', 'L14.txt', 'L16.txt', 'L17.txt', 'L18.txt', 'L19.txt', 'L2.txt', 'L20.txt', 'L21.txt', 'L22.txt', 'L23.txt', 'L25.txt', 'L27.txt', 'L29.txt', 'L3.txt', 'L30.txt', 'L31.txt', 'L32.txt', 'L33.txt', 'L34.txt', 'L35.txt', 'L36.txt', 'L37.txt', 'L38.txt', 'L39.txt', 'L4.txt', 'L40.txt', 'L41.txt', 'L42.txt', 'L43.txt', 'L44.txt', 'L45.txt', 'L46.txt', 'L47.txt', 'L48.txt', 'L5.txt', 'L50.txt', 'L51.txt', 'L52.txt', 'L53.txt', 'L54.txt', 'L56.txt', 'L6.txt', 'L61.txt', 'L7.txt', 'L8.txt', 'L9.txt', 'LC0.txt', 'LC1.txt', 'LC10.txt', 'LC11.txt', 'LC12.txt', 'LC13.txt', 'LC14.txt', 'LC15.txt', 'LC16.txt', 'LC17.txt', 'LC18.txt', 'LC2.txt', 'LC3.txt', 'LC4.txt', 'LC5.txt', 'LC6.txt', 'LC7.txt', 'LC8.txt', 'LC9.txt', 'LLSDA1495.txt', 'LLSDACSB1495.txt', 'LLSDACSE1495.txt', 'pre.txt', '_board.txt', '_main.txt', '_o.txt', '__GLOBAL__sub_I_board.txt', '__Z41__static_initialization_and_destruction_0ii.txt', '__Z4initv.txt', '__Z5placeb.txt', '__Z7computev.txt', '__Z7displayv.txt', '__ZStL19piecewise_construct.txt', '___tcf_0.txt']\n",
      "附件2_7.2 84 ['L11.txt', 'L12.txt', 'L13.txt', 'L14.txt', 'L16.txt', 'L17.txt', 'L18.txt', 'L19.txt', 'L2.txt', 'L20.txt', 'L21.txt', 'L22.txt', 'L23.txt', 'L25.txt', 'L27.txt', 'L29.txt', 'L3.txt', 'L30.txt', 'L31.txt', 'L32.txt', 'L33.txt', 'L34.txt', 'L35.txt', 'L36.txt', 'L37.txt', 'L38.txt', 'L39.txt', 'L4.txt', 'L40.txt', 'L41.txt', 'L42.txt', 'L43.txt', 'L44.txt', 'L45.txt', 'L46.txt', 'L47.txt', 'L48.txt', 'L5.txt', 'L50.txt', 'L51.txt', 'L52.txt', 'L53.txt', 'L54.txt', 'L56.txt', 'L58.txt', 'L6.txt', 'L62.txt', 'L7.txt', 'L8.txt', 'L9.txt', 'LC0.txt', 'LC1.txt', 'LC10.txt', 'LC11.txt', 'LC12.txt', 'LC13.txt', 'LC14.txt', 'LC15.txt', 'LC16.txt', 'LC17.txt', 'LC18.txt', 'LC2.txt', 'LC3.txt', 'LC4.txt', 'LC5.txt', 'LC6.txt', 'LC7.txt', 'LC8.txt', 'LC9.txt', 'LLSDA1532.txt', 'LLSDACSB1532.txt', 'LLSDACSE1532.txt', 'pre.txt', '_board.txt', '_main.txt', '_o.txt', '__GLOBAL__sub_I_board.txt', '__Z41__static_initialization_and_destruction_0ii.txt', '__Z4initv.txt', '__Z5placeb.txt', '__Z7computev.txt', '__Z7displayv.txt', '__ZStL19piecewise_construct.txt', '___tcf_0.txt']\n",
      "附件2_8.2 84 ['L11.txt', 'L12.txt', 'L13.txt', 'L14.txt', 'L16.txt', 'L17.txt', 'L18.txt', 'L19.txt', 'L2.txt', 'L20.txt', 'L21.txt', 'L22.txt', 'L23.txt', 'L25.txt', 'L27.txt', 'L29.txt', 'L3.txt', 'L30.txt', 'L31.txt', 'L32.txt', 'L33.txt', 'L34.txt', 'L35.txt', 'L36.txt', 'L37.txt', 'L38.txt', 'L39.txt', 'L4.txt', 'L40.txt', 'L41.txt', 'L42.txt', 'L43.txt', 'L44.txt', 'L45.txt', 'L46.txt', 'L47.txt', 'L48.txt', 'L5.txt', 'L50.txt', 'L51.txt', 'L52.txt', 'L53.txt', 'L54.txt', 'L56.txt', 'L58.txt', 'L6.txt', 'L63.txt', 'L7.txt', 'L8.txt', 'L9.txt', 'LC0.txt', 'LC1.txt', 'LC10.txt', 'LC11.txt', 'LC12.txt', 'LC13.txt', 'LC14.txt', 'LC15.txt', 'LC16.txt', 'LC17.txt', 'LC18.txt', 'LC2.txt', 'LC3.txt', 'LC4.txt', 'LC5.txt', 'LC6.txt', 'LC7.txt', 'LC8.txt', 'LC9.txt', 'LLSDA1556.txt', 'LLSDACSB1556.txt', 'LLSDACSE1556.txt', 'pre.txt', '_board.txt', '_main.txt', '_o.txt', '__GLOBAL__sub_I_board.txt', '__Z41__static_initialization_and_destruction_0ii.txt', '__Z4initv.txt', '__Z5placeb.txt', '__Z7computev.txt', '__Z7displayv.txt', '__ZStL19piecewise_construct.txt', '___tcf_0.txt']\n",
      "附件2_9.2 84 ['L11.txt', 'L12.txt', 'L13.txt', 'L14.txt', 'L16.txt', 'L17.txt', 'L18.txt', 'L19.txt', 'L2.txt', 'L20.txt', 'L21.txt', 'L22.txt', 'L23.txt', 'L25.txt', 'L27.txt', 'L29.txt', 'L3.txt', 'L30.txt', 'L31.txt', 'L32.txt', 'L33.txt', 'L34.txt', 'L35.txt', 'L36.txt', 'L37.txt', 'L38.txt', 'L39.txt', 'L4.txt', 'L40.txt', 'L41.txt', 'L42.txt', 'L43.txt', 'L44.txt', 'L45.txt', 'L46.txt', 'L47.txt', 'L48.txt', 'L5.txt', 'L50.txt', 'L51.txt', 'L52.txt', 'L53.txt', 'L54.txt', 'L56.txt', 'L58.txt', 'L6.txt', 'L63.txt', 'L7.txt', 'L8.txt', 'L9.txt', 'LC0.txt', 'LC1.txt', 'LC10.txt', 'LC11.txt', 'LC12.txt', 'LC13.txt', 'LC14.txt', 'LC15.txt', 'LC16.txt', 'LC17.txt', 'LC18.txt', 'LC2.txt', 'LC3.txt', 'LC4.txt', 'LC5.txt', 'LC6.txt', 'LC7.txt', 'LC8.txt', 'LC9.txt', 'LLSDA1563.txt', 'LLSDACSB1563.txt', 'LLSDACSE1563.txt', 'pre.txt', '_board.txt', '_main.txt', '_o.txt', '__GLOBAL__sub_I_board.txt', '__Z41__static_initialization_and_destruction_0ii.txt', '__Z4initv.txt', '__Z5placeb.txt', '__Z7computev.txt', '__Z7displayv.txt', '__ZStL19piecewise_construct.txt', '___tcf_0.txt']\n"
     ]
    }
   ],
   "source": [
    "list_name = os.listdir(\"附件2\")\n",
    "list2 = {}\n",
    "for name in list_name:\n",
    "    list2[name]=os.listdir(\"附件2/\"+name)\n",
    "for key,value in list2.items():\n",
    "    print(key,len(value),value)"
   ]
  }
 ],
 "metadata": {
  "kernelspec": {
   "display_name": "ai",
   "language": "python",
   "name": "python3"
  },
  "language_info": {
   "codemirror_mode": {
    "name": "ipython",
    "version": 3
   },
   "file_extension": ".py",
   "mimetype": "text/x-python",
   "name": "python",
   "nbconvert_exporter": "python",
   "pygments_lexer": "ipython3",
   "version": "3.8.17"
  }
 },
 "nbformat": 4,
 "nbformat_minor": 2
}
